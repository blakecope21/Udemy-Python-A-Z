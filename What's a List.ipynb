{
 "cells": [
  {
   "cell_type": "code",
   "execution_count": null,
   "metadata": {},
   "outputs": [],
   "source": [
    "# A list is like a horizontal bookshefl with numbers inside\n",
    "# 50 34 111 7 24 631 20 4 7 21\n",
    "# 0   1  2  3 4  5   6  7 8 9 \n",
    "\n",
    "# List can have Mixed Data types\n",
    "# \"A\" \"Hey\" 7 True 27.5 \"A\" -100"
   ]
  }
 ],
 "metadata": {
  "kernelspec": {
   "display_name": "Python 3",
   "language": "python",
   "name": "python3"
  },
  "language_info": {
   "codemirror_mode": {
    "name": "ipython",
    "version": 3
   },
   "file_extension": ".py",
   "mimetype": "text/x-python",
   "name": "python",
   "nbconvert_exporter": "python",
   "pygments_lexer": "ipython3",
   "version": "3.7.6"
  }
 },
 "nbformat": 4,
 "nbformat_minor": 4
}
