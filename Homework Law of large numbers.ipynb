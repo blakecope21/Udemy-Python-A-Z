{
 "cells": [
  {
   "cell_type": "markdown",
   "metadata": {},
   "source": [
    "# Homework: Law of Large Numbers"
   ]
  },
  {
   "cell_type": "markdown",
   "metadata": {},
   "source": [
    "## Test the Law of Large Numbers for N random normally distributed numbers with mean = 0, stdev = 1:\n",
    "\n",
    "## Create a Python script that will count how many of these numbers fall between -1 and 1 and divide by the total quantity of N\n",
    "\n",
    "## You know that E(x) = 68.2%\n",
    "\n",
    "## Check that Mean(Xn) -> E(X) as you rerun your script while increasing N"
   ]
  },
  {
   "cell_type": "code",
   "execution_count": 1,
   "metadata": {},
   "outputs": [],
   "source": [
    "# Load Libraries\n",
    "# numpy for randn\n",
    "import numpy as np\n",
    "from numpy.random import randn"
   ]
  },
  {
   "cell_type": "code",
   "execution_count": 43,
   "metadata": {},
   "outputs": [
    {
     "name": "stdout",
     "output_type": "stream",
     "text": [
      "0.68358\n"
     ]
    }
   ],
   "source": [
    "N = 100000 # specify sample size\n",
    "counter = 0 # reset counter \n",
    "for i in randn(N): # iteration variables that will iterate over 100 random normally distributed numbers\n",
    "    if(i >= -1 and i <= 1): # check where iterated values falls\n",
    "        counter = counter + 1 # increase counter if condition is met\n",
    "answer = counter / N # calculate hit-ration\n",
    "print(answer)   # Print answer"
   ]
  },
  {
   "cell_type": "code",
   "execution_count": null,
   "metadata": {},
   "outputs": [],
   "source": []
  }
 ],
 "metadata": {
  "kernelspec": {
   "display_name": "Python 3",
   "language": "python",
   "name": "python3"
  },
  "language_info": {
   "codemirror_mode": {
    "name": "ipython",
    "version": 3
   },
   "file_extension": ".py",
   "mimetype": "text/x-python",
   "name": "python",
   "nbconvert_exporter": "python",
   "pygments_lexer": "ipython3",
   "version": "3.7.6"
  }
 },
 "nbformat": 4,
 "nbformat_minor": 4
}
